{
 "cells": [
  {
   "cell_type": "markdown",
   "id": "d2fdeb04",
   "metadata": {},
   "source": [
    "## Discuss escape sequences \n",
    "Escape sequences allow you to include special characters in strings. \n",
    "\n",
    "To do this, simply add a backslash \n",
    "```\\```\n",
    "before the character you want to escape.\n",
    "\n",
    "\n",
    "### Examples \n",
    "\n",
    "#### escaping quotation mark\n",
    "to include quotation marks like in what's app during output we need to escape the quote or an error is output\n",
    "```python\n",
    "# when not mixing \"\" and '' quotation marks\n",
    "print(' what's app')\n",
    "```\n",
    "\n",
    "outputs \n",
    "```bash\n",
    " File \"main.py\", line 1\n",
    "    s = 'Hey, what's up?'\n",
    "                   ^\n",
    "SyntaxError: invalid syntax\n",
    "```\n",
    "\n",
    "correct case is:\n",
    "```python\n",
    "print('what\\'s app')\n",
    "```\n",
    "\n",
    "#### escaping slash marks\n",
    "To output slash in not as an escape character we need to escape it \n",
    "```python\n",
    "\n",
    "```"
   ]
  },
  {
   "cell_type": "code",
   "execution_count": null,
   "id": "84ba59d1",
   "metadata": {},
   "outputs": [],
   "source": [
    "a = 'this line has a newline character\\nand continues here'\n",
    "b = 'this line has an inline tab\\tand continues here'\n",
    "c = 'this line has an inline quote \\'this is in quotes \\''\n"
   ]
  },
  {
   "cell_type": "markdown",
   "id": "cc2dd693",
   "metadata": {},
   "source": [
    "### reference link\n",
    "[python escape sequences](https://www.w3schools.com/python/gloss_python_escape_characters.asp)"
   ]
  }
 ],
 "metadata": {
  "kernelspec": {
   "display_name": "Python 3 (ipykernel)",
   "language": "python",
   "name": "python3"
  },
  "language_info": {
   "codemirror_mode": {
    "name": "ipython",
    "version": 3
   },
   "file_extension": ".py",
   "mimetype": "text/x-python",
   "name": "python",
   "nbconvert_exporter": "python",
   "pygments_lexer": "ipython3",
   "version": "3.9.7"
  }
 },
 "nbformat": 4,
 "nbformat_minor": 5
}
