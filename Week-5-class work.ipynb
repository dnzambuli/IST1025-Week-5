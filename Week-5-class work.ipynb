{
 "cells": [
  {
   "cell_type": "markdown",
   "id": "39f493da",
   "metadata": {},
   "source": [
    "### Task\n",
    "Type and run the following\n",
    "```python\n",
    "val = input(\"Enter your value\")\n",
    "print(val)\n",
    "```"
   ]
  },
  {
   "cell_type": "code",
   "execution_count": 1,
   "id": "c27feb2a",
   "metadata": {},
   "outputs": [
    {
     "name": "stdout",
     "output_type": "stream",
     "text": [
      "Enter your value20\n",
      "20\n"
     ]
    }
   ],
   "source": [
    "val = input(\"Enter your value\")\n",
    "print(val)"
   ]
  },
  {
   "cell_type": "markdown",
   "id": "1cb29b0c",
   "metadata": {},
   "source": [
    "## Input() method\n",
    "This method prompts users to enter the data requested when the program is run\n",
    "\n",
    "### Task\n",
    "- prompt users for year of birth \n",
    "- print out their age\n",
    "\n",
    "**notice**\n",
    "\n",
    "the data passed from the method **input()** is of [**string type**](https://www.tutorialspoint.com/python/python_strings.htm)\n",
    "\n",
    "From the last class we are reminded that\n",
    "```python\n",
    "a = 2022 - \"2003\"\n",
    "a\n",
    "```\n",
    "gives the error\n",
    "```bash\n",
    "---------------------------------------------------------------------------\n",
    "TypeError                                 Traceback (most recent call last)\n",
    "C:\\Users\\DNZAMB~1\\AppData\\Local\\Temp/ipykernel_8020/3230736736.py in <module>\n",
    "----> 1 a = 2022 - \"2003\"\n",
    "      2 a\n",
    "\n",
    "TypeError: unsupported operand type(s) for -: 'int' and 'str'\n",
    "```"
   ]
  },
  {
   "cell_type": "code",
   "execution_count": 5,
   "id": "26f6712a",
   "metadata": {},
   "outputs": [
    {
     "name": "stdout",
     "output_type": "stream",
     "text": [
      "Enter your year of birth: 2003\n",
      "xxxxxxxxxxxx\n",
      "\n",
      "You are 19 years old\n",
      "\n",
      "xxxxxxxxxxxx\n"
     ]
    }
   ],
   "source": [
    "DOB = int(input(\"Enter your year of birth: \"))\n",
    "today = 2022\n",
    "print(f\"{'x' * 12}\\n\\nYou are {2022 - DOB} years old\\n\\n{'x' * 12}\")"
   ]
  },
  {
   "cell_type": "code",
   "execution_count": 9,
   "id": "619d10f3",
   "metadata": {},
   "outputs": [
    {
     "name": "stdout",
     "output_type": "stream",
     "text": [
      "Enter the year of birth:\n",
      "1000\n",
      "You age is 1022\n",
      "\n"
     ]
    }
   ],
   "source": [
    "import datetime as dt\n",
    "from dateutil.relativedelta import relativedelta\n",
    "\n",
    "today = dt.date.today()\n",
    "DOB = input(\"Enter the year of birth:\\n\")\n",
    "age = today.year - int(DOB)\n",
    "print(\"You age is %s\\n\" %age)"
   ]
  },
  {
   "cell_type": "code",
   "execution_count": null,
   "id": "81ab0356",
   "metadata": {},
   "outputs": [],
   "source": []
  }
 ],
 "metadata": {
  "kernelspec": {
   "display_name": "Python 3 (ipykernel)",
   "language": "python",
   "name": "python3"
  },
  "language_info": {
   "codemirror_mode": {
    "name": "ipython",
    "version": 3
   },
   "file_extension": ".py",
   "mimetype": "text/x-python",
   "name": "python",
   "nbconvert_exporter": "python",
   "pygments_lexer": "ipython3",
   "version": "3.9.7"
  }
 },
 "nbformat": 4,
 "nbformat_minor": 5
}
